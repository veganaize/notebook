{
 "cells": [
  {
   "cell_type": "code",
   "execution_count": null,
   "metadata": {},
   "outputs": [],
   "source": [
    "import os"
   ]
  },
  {
   "cell_type": "code",
   "execution_count": null,
   "metadata": {},
   "outputs": [],
   "source": [
    "def strip_letters(number, path):\n",
    "    \"\"\" Strips the first letters from all file names in a directory. \"\"\"\n",
    "    for path, folders, files in os.walk(path):\n",
    "        num = 0\n",
    "        for file in files:\n",
    "            # If the new name is a duplicate of an existing name throw an exception.\n",
    "            try:\n",
    "                os.rename(os.path.join(path, file), os.path.join(path, file[number:]))\n",
    "            except FileExistsError:\n",
    "                # Handle exception by adding \"dup\" a number as part of the files new name.\n",
    "                num += 1\n",
    "                os.rename(os.path.join(path, file), os.path.join(path, \"\".join((\"dup\", str(num), file[number:]))))\n"
   ]
  },
  {
   "cell_type": "code",
   "execution_count": null,
   "metadata": {},
   "outputs": [],
   "source": [
    "# Call function from a Jupyter Notebook\n",
    "# passing in the number of characters\n",
    "# to delete and the file path.\n",
    "number = int(input(\"Number of characters to delete? \"))\n",
    "path = input(\"Path to file(s)? \")\n",
    "\n",
    "strip_letters(number, path)"
   ]
  },
  {
   "cell_type": "code",
   "execution_count": null,
   "metadata": {},
   "outputs": [],
   "source": []
  }
 ],
 "metadata": {
  "kernelspec": {
   "display_name": "Python 3",
   "language": "python",
   "name": "python3"
  },
  "language_info": {
   "codemirror_mode": {
    "name": "ipython",
    "version": 3
   },
   "file_extension": ".py",
   "mimetype": "text/x-python",
   "name": "python",
   "nbconvert_exporter": "python",
   "pygments_lexer": "ipython3",
   "version": "3.7.2"
  }
 },
 "nbformat": 4,
 "nbformat_minor": 2
}
